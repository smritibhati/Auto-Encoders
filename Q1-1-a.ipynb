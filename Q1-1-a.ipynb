{
 "cells": [
  {
   "cell_type": "code",
   "execution_count": 2,
   "metadata": {},
   "outputs": [],
   "source": [
    "import numpy as np\n",
    "import pandas as pd\n",
    "df = pd.read_csv('data.csv')\n",
    "import random as rd\n",
    "import csv\n",
    "import copy\n",
    "from collections import Counter\n",
    "\n",
    "import matplotlib.pyplot as plt\n",
    "from copy import deepcopy\n",
    "from sklearn.mixture import GaussianMixture\n",
    "from sklearn.cluster import AgglomerativeClustering\n"
   ]
  },
  {
   "cell_type": "code",
   "execution_count": 3,
   "metadata": {},
   "outputs": [],
   "source": [
    "# data,testdata= np.split(df,[int(0.80*len(df))])\n",
    "X = df[df.columns[0:-1]]\n",
    "Y = df[df.columns[-1]]"
   ]
  },
  {
   "cell_type": "code",
   "execution_count": 4,
   "metadata": {},
   "outputs": [],
   "source": [
    "means = np.mean(X, axis = 0)\n",
    "stdDev = np.std(X, axis = 0)\n",
    "X = (X - means) / stdDev"
   ]
  },
  {
   "cell_type": "code",
   "execution_count": 5,
   "metadata": {},
   "outputs": [],
   "source": [
    "def sigmoid(x):\n",
    "    return 1.0/(1.0+ np.exp(-x))\n",
    "\n",
    "def sigmoidderivative(x):\n",
    "    return sigmoid(x) * (1.0 - sigmoid(x))"
   ]
  },
  {
   "cell_type": "code",
   "execution_count": 14,
   "metadata": {},
   "outputs": [],
   "source": [
    "class NeuralNetwork:\n",
    "    def __init__(self, X, Y, hiddeninfo):\n",
    "        self.n = len(hiddeninfo)\n",
    "        self.inputlayersize  = X.shape[1]\n",
    "        self.outputlayersize = X.shape[1]\n",
    "        self.allweights = [1] *(self.n + 1)\n",
    "        self.allactivations = [1] *(self.n+1 )\n",
    "        self.allz = [1]*(self.n +1)\n",
    "        \n",
    "        self.allweights[0] =  np.random.rand(self.inputlayersize,hiddeninfo[0])\n",
    "        \n",
    "        for i in range (1,self.n+1):\n",
    "            if i==self.n:\n",
    "                weights= np.random.rand(hiddeninfo[self.n-1],self.outputlayersize)\n",
    "            else:\n",
    "                weights = np.random.rand(hiddeninfo[i-1],hiddeninfo[i])\n",
    "            self.allweights[i]=weights \n",
    "    def getreduceddimensions(self):\n",
    "        return self.allactivations[0]\n",
    "    \n",
    "    def forwardprop(self,X):       \n",
    "        output = []\n",
    "        self.allz[0] = np.dot(X,self.allweights[0])\n",
    "        self.allactivations[0] = sigmoid(self.allz[0])\n",
    "        \n",
    "        for i in range(1, len(self.allweights)):\n",
    "            self.allz[i] = np.dot(self.allactivations[i-1],self.allweights[i])\n",
    "            self.allactivations[i] = sigmoid(self.allz[i])\n",
    "\n",
    "        return self.allactivations[-1]\n",
    "\n",
    "    def backprop(self,X,Y):\n",
    "\n",
    "        deltas = [np.float128(1.0)] * len(self.allweights)\n",
    "        dweights = [np.float128(1.0)] *len(self.allweights)\n",
    "        \n",
    "        deltas[-1] = - (Y - X) * sigmoidderivative(self.allactivations[-1]);\n",
    "        dweights[-1] = np.dot(self.allactivations[-2].T, deltas[-1])\n",
    "        \n",
    "#         print(self.allweights[0][0])\n",
    "        i = len(self.allweights)-2\n",
    "        while i>0:\n",
    "            deltas[i] = np.dot(deltas[i+1],self.allweights[i+1].T)*sigmoidderivative(self.allactivations[i])\n",
    "            dweights[i] = np.dot(self.allactivations[i-1].T, deltas[i])\n",
    "            i-=1\n",
    "        \n",
    "        deltas[0] =  np.dot(deltas[1],self.allweights[1].T)*sigmoidderivative(self.allactivations[0])\n",
    "        dweights[0] = np.dot(X.T, deltas[0])\n",
    "        \n",
    "#         print(deltas)\n",
    "#         print(\"****************\")\n",
    "#         for x in deltas:\n",
    "#             print(x.shape)\n",
    "            \n",
    "#         for x in dweights:\n",
    "#             print(x.shape)\n",
    "        \n",
    "        for i in range(len(self.allweights)):\n",
    "            self.allweights[i] = self.allweights[i] - .0001 * dweights[i]\n",
    "        \n",
    "#         print (self.op)\n",
    "#         print(dweights)\n",
    "    \n"
   ]
  },
  {
   "cell_type": "code",
   "execution_count": 15,
   "metadata": {},
   "outputs": [],
   "source": [
    "def error(y, op):\n",
    "#     print(\"Actual: \", y)\n",
    "#     print(\"Derived: \", op)\n",
    "    return np.mean(np.mean((y-op)**2))"
   ]
  },
  {
   "cell_type": "code",
   "execution_count": 16,
   "metadata": {},
   "outputs": [
    {
     "name": "stdout",
     "output_type": "stream",
     "text": [
      "1.69327645659636\n",
      "1.1815375572645532\n",
      "1.013974756380343\n",
      "0.9887690030740053\n",
      "0.9829174981503241\n",
      "0.9816635527618287\n",
      "0.9823494085449269\n",
      "0.9844275733972083\n",
      "0.988090393518346\n",
      "0.9934950537766367\n"
     ]
    }
   ],
   "source": [
    "nn = NeuralNetwork(X,Y,[14])\n",
    "ferrors=[]\n",
    "errors=[]\n",
    "for i in range(10):\n",
    "    s = 0\n",
    "    for i in range(12499):\n",
    "        op = nn.forwardprop(X.iloc[s:s+2])\n",
    "        outY= X.iloc[s:s+2]\n",
    "#         print(error(outY,op))\n",
    "        errors.append(error(outY,op))\n",
    "        nn.backprop(op,outY)\n",
    "        s+=2\n",
    "    \n",
    "    opall = nn.forwardprop(X)\n",
    "    finalerror = error(X, opall)\n",
    "    ferrors.append(finalerror)\n",
    "    print(finalerror)"
   ]
  },
  {
   "cell_type": "code",
   "execution_count": 17,
   "metadata": {
    "scrolled": false
   },
   "outputs": [
    {
     "data": {
      "image/png": "[encoded data removed]",
      "text/plain": [
       "<Figure size 432x288 with 1 Axes>"
      ]
     },
     "metadata": {
      "needs_background": "light"
     },
     "output_type": "display_data"
    }
   ],
   "source": [
    "plt.plot(ferrors)\n",
    "plt.show()"
   ]
  },
  {
   "cell_type": "markdown",
   "metadata": {},
   "source": [
    "# K-Means"
   ]
  },
  {
   "cell_type": "code",
   "execution_count": 18,
   "metadata": {},
   "outputs": [],
   "source": [
    "data = nn.getreduceddimensions()\n",
    "reduceddf = pd.DataFrame(data=data[0:,0:])"
   ]
  },
  {
   "cell_type": "code",
   "execution_count": 19,
   "metadata": {},
   "outputs": [],
   "source": [
    "inputdata = reduceddf\n",
    "mean=np.mean(inputdata)\n",
    "standarddev=np.std(inputdata)\n",
    "for i in range(len(inputdata.columns)):\n",
    "    inputdata[inputdata.columns[i]]= [(1.0 * (colum-mean[i]))/standarddev[i] for colum in inputdata[inputdata.columns[i]]]\n",
    "    "
   ]
  },
  {
   "cell_type": "code",
   "execution_count": 20,
   "metadata": {},
   "outputs": [],
   "source": [
    "inputdata = np.array(inputdata)\n",
    "numoftrainingeg = inputdata.shape[0] \n",
    "numoffeatures =inputdata.shape[1] #number of features. Here n=2\n",
    "k=5\n",
    "random=rd.randint(0,numoftrainingeg-1)\n",
    "centers= np.array(inputdata[random])\n",
    "\n",
    "for i in range(4):\n",
    "    random=rd.randint(0,numoftrainingeg-1)\n",
    "    centers = np.vstack((centers,inputdata[random]))"
   ]
  },
  {
   "cell_type": "code",
   "execution_count": 21,
   "metadata": {},
   "outputs": [
    {
     "name": "stdout",
     "output_type": "stream",
     "text": [
      "4.875641396216456\n",
      "0.7444448123640358\n",
      "0.48241850596547936\n",
      "0.45234233410667307\n",
      "0.4802906608364671\n",
      "0.39053021202851496\n",
      "0.34408119778026786\n",
      "0.260350108954048\n",
      "0.18825493453809236\n",
      "0.1298874272344948\n",
      "0.10229441472974019\n",
      "0.09739045704509085\n",
      "0.08711495070197275\n",
      "0.10197229005543076\n",
      "0.15922022591471507\n",
      "0.4096319705075587\n",
      "0.7342161077762942\n",
      "0.6021140522253969\n",
      "0.6042159384980857\n",
      "0.4105160628820981\n",
      "0.27528103901947765\n",
      "0.1608933419057909\n",
      "0.08763492955981418\n",
      "0.07442828517494755\n",
      "0.052228205283685096\n",
      "0.04220591545544358\n",
      "0.02373400563099195\n",
      "0.010182857962263508\n",
      "0.002268711505788467\n",
      "0.0\n"
     ]
    }
   ],
   "source": [
    "error = 99999\n",
    "distances = np.zeros((numoftrainingeg,k))\n",
    "\n",
    "while error >= 0.001:\n",
    "    for i in range(k):\n",
    "        distances[:,i] = np.linalg.norm(inputdata - centers[i], axis=1)\n",
    "    \n",
    "    clusters = np.argmin(distances, axis = 1)\n",
    "    \n",
    "    centersold = deepcopy(centers)\n",
    "\n",
    "    for i in range(k):\n",
    "        centers[i] = np.mean(inputdata[clusters == i], axis=0)\n",
    "    \n",
    "    error = np.linalg.norm(centers - centersold)\n",
    "    print(error)"
   ]
  },
  {
   "cell_type": "code",
   "execution_count": 22,
   "metadata": {},
   "outputs": [],
   "source": [
    "def pre_dict(clusters, inputdata):\n",
    "    predicted={}\n",
    "    for i in range(len(clusters)):\n",
    "        cl = clusters[i]\n",
    "        if cl in predicted:\n",
    "            predicted[cl].append(inputdata[i])\n",
    "        else:\n",
    "            predicted[cl]=[]\n",
    "            predicted[cl].append(inputdata[i])\n",
    "    \n",
    "    purity=[]\n",
    "    for cl in predicted:\n",
    "        keys=[]\n",
    "    \n",
    "        for onelist in predicted[cl]:\n",
    "            keys.append(onelist[14])\n",
    "    \n",
    "        c = Counter(keys)\n",
    "        print(len(keys))\n",
    "        value, count = c.most_common() [0]\n",
    "        purity.append((value, (count/len(keys))))\n",
    "    return purity"
   ]
  },
  {
   "cell_type": "code",
   "execution_count": 23,
   "metadata": {},
   "outputs": [
    {
     "name": "stdout",
     "output_type": "stream",
     "text": [
      "9701\n",
      "10287\n",
      "2703\n",
      "1216\n",
      "1091\n"
     ]
    }
   ],
   "source": [
    "reduceddf = pd.DataFrame(inputdata)\n",
    "reduceddf[29] = np.array(df[df.columns[-1]])\n",
    "\n",
    "inputdata = np.array(reduceddf)\n",
    "purity = pre_dict(clusters,inputdata)"
   ]
  },
  {
   "cell_type": "code",
   "execution_count": 24,
   "metadata": {},
   "outputs": [
    {
     "name": "stdout",
     "output_type": "stream",
     "text": [
      "normal 0.9777342542005979\n",
      "dos 0.8210362593564693\n",
      "normal 0.7669256381798002\n",
      "probe 0.5394736842105263\n",
      "normal 0.7305224564619615\n"
     ]
    }
   ],
   "source": [
    "averagekmeans=0\n",
    "for i in range(len(purity)):\n",
    "    print(purity[i][0], purity[i][1])\n",
    "    averagekmeans+=purity[i][1]\n",
    "averagekmeans/=len(purity)"
   ]
  },
  {
   "cell_type": "markdown",
   "metadata": {},
   "source": [
    "# GMM"
   ]
  },
  {
   "cell_type": "code",
   "execution_count": 25,
   "metadata": {},
   "outputs": [],
   "source": [
    "data = nn.getreduceddimensions()\n",
    "reduceddf = pd.DataFrame(data=data[0:,0:])"
   ]
  },
  {
   "cell_type": "code",
   "execution_count": 26,
   "metadata": {},
   "outputs": [
    {
     "name": "stdout",
     "output_type": "stream",
     "text": [
      "Successful! True\n",
      "9116\n",
      "8735\n",
      "1361\n",
      "2872\n",
      "2914\n"
     ]
    }
   ],
   "source": [
    "inputdata = np.array(reduceddf)\n",
    "\n",
    "GMM = GaussianMixture(n_components=5).fit(inputdata)\n",
    "print('Successful!',GMM.converged_)\n",
    "\n",
    "df_1 = pd.DataFrame(inputdata)\n",
    "predictionvalues = GMM.predict(inputdata)\n",
    "\n",
    "df_1[29] = np.array(df[df.columns[-1]])\n",
    "\n",
    "inputdata = np.array(df_1)\n",
    "purity = pre_dict(predictionvalues, inputdata)"
   ]
  },
  {
   "cell_type": "code",
   "execution_count": 27,
   "metadata": {},
   "outputs": [
    {
     "name": "stdout",
     "output_type": "stream",
     "text": [
      "normal 0.985410267661255\n",
      "dos 0.9028048082427018\n",
      "normal 0.5025716385011021\n",
      "normal 0.6316155988857939\n",
      "normal 0.6382978723404256\n"
     ]
    }
   ],
   "source": [
    "averagegmm=0\n",
    "for i in range(len(purity)):\n",
    "    print(purity[i][0], purity[i][1])\n",
    "    averagegmm+=purity[i][1]\n",
    "averagegmm/=len(purity)"
   ]
  },
  {
   "cell_type": "markdown",
   "metadata": {},
   "source": [
    "# Hierarchical Clustering"
   ]
  },
  {
   "cell_type": "code",
   "execution_count": 28,
   "metadata": {},
   "outputs": [],
   "source": [
    "data = nn.getreduceddimensions()\n",
    "reduceddf = pd.DataFrame(data=data[0:,0:])"
   ]
  },
  {
   "cell_type": "code",
   "execution_count": 29,
   "metadata": {},
   "outputs": [
    {
     "data": {
      "text/plain": [
       "array([0, 0, 0, ..., 0, 0, 0])"
      ]
     },
     "execution_count": 29,
     "metadata": {},
     "output_type": "execute_result"
    }
   ],
   "source": [
    "inputdata = np.array(reduceddf)\n",
    "hierClusters = AgglomerativeClustering(affinity='euclidean', compute_full_tree='auto', connectivity=None, linkage='single', memory=None, n_clusters=5, pooling_func='deprecated') \n",
    "hierClusters.fit(inputdata)\n",
    "hierClusters.labels_"
   ]
  },
  {
   "cell_type": "code",
   "execution_count": 30,
   "metadata": {},
   "outputs": [
    {
     "name": "stdout",
     "output_type": "stream",
     "text": [
      "24993\n",
      "2\n",
      "1\n",
      "1\n",
      "1\n",
      "normal 0.5345096627055576\n",
      "normal 1.0\n",
      "normal 1.0\n",
      "normal 1.0\n",
      "normal 1.0\n"
     ]
    }
   ],
   "source": [
    "df_1 = pd.DataFrame(inputdata)\n",
    "df_1[29] = np.array(df[df.columns[-1]])\n",
    "inputdata = np.array(df_1)\n",
    "averageh=0\n",
    "purity = pre_dict(hierClusters.labels_, inputdata)\n",
    "for i in range(len(purity)):\n",
    "    print(purity[i][0], purity[i][1])\n",
    "    averageh+=purity[i][1]\n",
    "averageh/=len(purity)"
   ]
  },
  {
   "cell_type": "code",
   "execution_count": 31,
   "metadata": {},
   "outputs": [
    {
     "data": {
      "image/png": "[encoded data removed]",
      "text/plain": [
       "<Figure size 432x288 with 1 Axes>"
      ]
     },
     "metadata": {},
     "output_type": "display_data"
    }
   ],
   "source": [
    "labels = 'K-Means', 'GMM', 'Heirarchical'\n",
    "sizes = [averagekmeans, averagegmm,averageh]\n",
    "colors = ['gold', 'yellowgreen', 'lightblue']\n",
    "explode = (0.1, 0.1,0.1)  # explode 1st slice\n",
    " \n",
    "# Plot\n",
    "plt.pie(sizes, explode=explode, labels=labels, colors=colors,\n",
    "autopct='%1.1f%%', shadow=True, startangle=140)\n",
    " \n",
    "plt.axis('equal')\n",
    "plt.show()"
   ]
  }
 ],
 "metadata": {
  "kernelspec": {
   "display_name": "Python 3",
   "language": "python",
   "name": "python3"
  },
  "language_info": {
   "codemirror_mode": {
    "name": "ipython",
    "version": 3
   },
   "file_extension": ".py",
   "mimetype": "text/x-python",
   "name": "python",
   "nbconvert_exporter": "python",
   "pygments_lexer": "ipython3",
   "version": "3.7.1"
  }
 },
 "nbformat": 4,
 "nbformat_minor": 2
}
